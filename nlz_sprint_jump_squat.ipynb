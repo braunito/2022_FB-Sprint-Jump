{
  "nbformat": 4,
  "nbformat_minor": 0,
  "metadata": {
    "colab": {
      "name": "nlz_sprint_jump_squat.ipynb",
      "provenance": [],
      "mount_file_id": "17r-5RqoyJ7cDNlBEcatdFyKS_A-olN4b",
      "authorship_tag": "ABX9TyOZbFv4R+7Ajw8W/fKaCTn/",
      "include_colab_link": true
    },
    "kernelspec": {
      "name": "python3",
      "display_name": "Python 3"
    },
    "language_info": {
      "name": "python"
    }
  },
  "cells": [
    {
      "cell_type": "markdown",
      "metadata": {
        "id": "view-in-github",
        "colab_type": "text"
      },
      "source": [
        "<a href=\"https://colab.research.google.com/github/braunito/2022_FB-Sprint-Jump/blob/main/nlz_sprint_jump_squat.ipynb\" target=\"_parent\"><img src=\"https://colab.research.google.com/assets/colab-badge.svg\" alt=\"Open In Colab\"/></a>"
      ]
    },
    {
      "cell_type": "code",
      "source": [
        "#================================================================\n",
        "# Funktionen & Pakete laden\n",
        "#================================================================\n",
        "\n",
        "import numpy as np\n",
        "import matplotlib.pyplot as plt\n",
        "import pandas as pd\n",
        "from scipy.signal import find_peaks\n",
        "from scipy.signal.signaltools import filtfilt\n",
        "from scipy.signal.filter_design import butter\n"
      ],
      "metadata": {
        "id": "5e6fdwhTYOcM"
      },
      "execution_count": null,
      "outputs": []
    },
    {
      "cell_type": "code",
      "execution_count": null,
      "metadata": {
        "id": "1MHnSqbWnBt3"
      },
      "outputs": [],
      "source": [
        "# Laden der Datendatei\n",
        "data=pd.read_csv('/content/drive/MyDrive/data/2022-02_nlz_sprint_jump_squat/Daten_NLZ.csv', sep=\";\",encoding='utf8') # Funktion zum Laden einer csv-Datei. Die Spalten sind durch Tabulatoren getrennt, die ersten vier Reihen werden ignoriert.\n"
      ]
    },
    {
      "cell_type": "code",
      "source": [
        "data.head()"
      ],
      "metadata": {
        "colab": {
          "base_uri": "https://localhost:8080/",
          "height": 268
        },
        "id": "R8AGjfMoowwZ",
        "outputId": "f2b47fae-7991-45bf-8fb9-09922fad7fd6"
      },
      "execution_count": null,
      "outputs": [
        {
          "output_type": "execute_result",
          "data": {
            "text/html": [
              "\n",
              "  <div id=\"df-273c3d88-fb33-4880-a18d-2153b3c3138d\">\n",
              "    <div class=\"colab-df-container\">\n",
              "      <div>\n",
              "<style scoped>\n",
              "    .dataframe tbody tr th:only-of-type {\n",
              "        vertical-align: middle;\n",
              "    }\n",
              "\n",
              "    .dataframe tbody tr th {\n",
              "        vertical-align: top;\n",
              "    }\n",
              "\n",
              "    .dataframe thead th {\n",
              "        text-align: right;\n",
              "    }\n",
              "</style>\n",
              "<table border=\"1\" class=\"dataframe\">\n",
              "  <thead>\n",
              "    <tr style=\"text-align: right;\">\n",
              "      <th></th>\n",
              "      <th>Probandennummer</th>\n",
              "      <th>NLZ</th>\n",
              "      <th>Sportart</th>\n",
              "      <th>Leistungsniveau</th>\n",
              "      <th>Geschlecht</th>\n",
              "      <th>Alter zum Testzeitpkt</th>\n",
              "      <th>Gewicht</th>\n",
              "      <th>Größe</th>\n",
              "      <th>Squat Jump</th>\n",
              "      <th>Countermovement Jump</th>\n",
              "      <th>1RM Kniebeuge hinten</th>\n",
              "      <th>Linearsprint 10m</th>\n",
              "      <th>Linearsprint 20m</th>\n",
              "      <th>Linearsprint 30 m</th>\n",
              "      <th>Relativkraftleistung</th>\n",
              "    </tr>\n",
              "  </thead>\n",
              "  <tbody>\n",
              "    <tr>\n",
              "      <th>0</th>\n",
              "      <td>1</td>\n",
              "      <td>1</td>\n",
              "      <td>Fußball</td>\n",
              "      <td>Nachwuchsleistungszentrum</td>\n",
              "      <td>männlich</td>\n",
              "      <td>19</td>\n",
              "      <td>79.6</td>\n",
              "      <td>184.5</td>\n",
              "      <td>39.1</td>\n",
              "      <td>38.8</td>\n",
              "      <td>110.0</td>\n",
              "      <td>1.713</td>\n",
              "      <td>2.956</td>\n",
              "      <td>4.128</td>\n",
              "      <td>1.38</td>\n",
              "    </tr>\n",
              "    <tr>\n",
              "      <th>1</th>\n",
              "      <td>2</td>\n",
              "      <td>1</td>\n",
              "      <td>Fußball</td>\n",
              "      <td>Nachwuchsleistungszentrum</td>\n",
              "      <td>männlich</td>\n",
              "      <td>19</td>\n",
              "      <td>68.6</td>\n",
              "      <td>171.0</td>\n",
              "      <td>41.9</td>\n",
              "      <td>41.9</td>\n",
              "      <td>100.0</td>\n",
              "      <td>1.706</td>\n",
              "      <td>2.909</td>\n",
              "      <td>4.077</td>\n",
              "      <td>1.46</td>\n",
              "    </tr>\n",
              "    <tr>\n",
              "      <th>2</th>\n",
              "      <td>3</td>\n",
              "      <td>1</td>\n",
              "      <td>Fußball</td>\n",
              "      <td>Nachwuchsleistungszentrum</td>\n",
              "      <td>männlich</td>\n",
              "      <td>19</td>\n",
              "      <td>63.1</td>\n",
              "      <td>172.0</td>\n",
              "      <td>35.5</td>\n",
              "      <td>37.9</td>\n",
              "      <td>90.0</td>\n",
              "      <td>1.766</td>\n",
              "      <td>3.006</td>\n",
              "      <td>4.176</td>\n",
              "      <td>1.43</td>\n",
              "    </tr>\n",
              "    <tr>\n",
              "      <th>3</th>\n",
              "      <td>5</td>\n",
              "      <td>1</td>\n",
              "      <td>Fußball</td>\n",
              "      <td>Nachwuchsleistungszentrum</td>\n",
              "      <td>männlich</td>\n",
              "      <td>18</td>\n",
              "      <td>78.1</td>\n",
              "      <td>179.0</td>\n",
              "      <td>37.7</td>\n",
              "      <td>42.1</td>\n",
              "      <td>80.0</td>\n",
              "      <td>1.758</td>\n",
              "      <td>3.000</td>\n",
              "      <td>4.152</td>\n",
              "      <td>1.02</td>\n",
              "    </tr>\n",
              "    <tr>\n",
              "      <th>4</th>\n",
              "      <td>6</td>\n",
              "      <td>1</td>\n",
              "      <td>Fußball</td>\n",
              "      <td>Nachwuchsleistungszentrum</td>\n",
              "      <td>männlich</td>\n",
              "      <td>18</td>\n",
              "      <td>79.2</td>\n",
              "      <td>183.0</td>\n",
              "      <td>35.6</td>\n",
              "      <td>36.4</td>\n",
              "      <td>80.0</td>\n",
              "      <td>1.784</td>\n",
              "      <td>3.095</td>\n",
              "      <td>4.342</td>\n",
              "      <td>1.01</td>\n",
              "    </tr>\n",
              "  </tbody>\n",
              "</table>\n",
              "</div>\n",
              "      <button class=\"colab-df-convert\" onclick=\"convertToInteractive('df-273c3d88-fb33-4880-a18d-2153b3c3138d')\"\n",
              "              title=\"Convert this dataframe to an interactive table.\"\n",
              "              style=\"display:none;\">\n",
              "        \n",
              "  <svg xmlns=\"http://www.w3.org/2000/svg\" height=\"24px\"viewBox=\"0 0 24 24\"\n",
              "       width=\"24px\">\n",
              "    <path d=\"M0 0h24v24H0V0z\" fill=\"none\"/>\n",
              "    <path d=\"M18.56 5.44l.94 2.06.94-2.06 2.06-.94-2.06-.94-.94-2.06-.94 2.06-2.06.94zm-11 1L8.5 8.5l.94-2.06 2.06-.94-2.06-.94L8.5 2.5l-.94 2.06-2.06.94zm10 10l.94 2.06.94-2.06 2.06-.94-2.06-.94-.94-2.06-.94 2.06-2.06.94z\"/><path d=\"M17.41 7.96l-1.37-1.37c-.4-.4-.92-.59-1.43-.59-.52 0-1.04.2-1.43.59L10.3 9.45l-7.72 7.72c-.78.78-.78 2.05 0 2.83L4 21.41c.39.39.9.59 1.41.59.51 0 1.02-.2 1.41-.59l7.78-7.78 2.81-2.81c.8-.78.8-2.07 0-2.86zM5.41 20L4 18.59l7.72-7.72 1.47 1.35L5.41 20z\"/>\n",
              "  </svg>\n",
              "      </button>\n",
              "      \n",
              "  <style>\n",
              "    .colab-df-container {\n",
              "      display:flex;\n",
              "      flex-wrap:wrap;\n",
              "      gap: 12px;\n",
              "    }\n",
              "\n",
              "    .colab-df-convert {\n",
              "      background-color: #E8F0FE;\n",
              "      border: none;\n",
              "      border-radius: 50%;\n",
              "      cursor: pointer;\n",
              "      display: none;\n",
              "      fill: #1967D2;\n",
              "      height: 32px;\n",
              "      padding: 0 0 0 0;\n",
              "      width: 32px;\n",
              "    }\n",
              "\n",
              "    .colab-df-convert:hover {\n",
              "      background-color: #E2EBFA;\n",
              "      box-shadow: 0px 1px 2px rgba(60, 64, 67, 0.3), 0px 1px 3px 1px rgba(60, 64, 67, 0.15);\n",
              "      fill: #174EA6;\n",
              "    }\n",
              "\n",
              "    [theme=dark] .colab-df-convert {\n",
              "      background-color: #3B4455;\n",
              "      fill: #D2E3FC;\n",
              "    }\n",
              "\n",
              "    [theme=dark] .colab-df-convert:hover {\n",
              "      background-color: #434B5C;\n",
              "      box-shadow: 0px 1px 3px 1px rgba(0, 0, 0, 0.15);\n",
              "      filter: drop-shadow(0px 1px 2px rgba(0, 0, 0, 0.3));\n",
              "      fill: #FFFFFF;\n",
              "    }\n",
              "  </style>\n",
              "\n",
              "      <script>\n",
              "        const buttonEl =\n",
              "          document.querySelector('#df-273c3d88-fb33-4880-a18d-2153b3c3138d button.colab-df-convert');\n",
              "        buttonEl.style.display =\n",
              "          google.colab.kernel.accessAllowed ? 'block' : 'none';\n",
              "\n",
              "        async function convertToInteractive(key) {\n",
              "          const element = document.querySelector('#df-273c3d88-fb33-4880-a18d-2153b3c3138d');\n",
              "          const dataTable =\n",
              "            await google.colab.kernel.invokeFunction('convertToInteractive',\n",
              "                                                     [key], {});\n",
              "          if (!dataTable) return;\n",
              "\n",
              "          const docLinkHtml = 'Like what you see? Visit the ' +\n",
              "            '<a target=\"_blank\" href=https://colab.research.google.com/notebooks/data_table.ipynb>data table notebook</a>'\n",
              "            + ' to learn more about interactive tables.';\n",
              "          element.innerHTML = '';\n",
              "          dataTable['output_type'] = 'display_data';\n",
              "          await google.colab.output.renderOutput(dataTable, element);\n",
              "          const docLink = document.createElement('div');\n",
              "          docLink.innerHTML = docLinkHtml;\n",
              "          element.appendChild(docLink);\n",
              "        }\n",
              "      </script>\n",
              "    </div>\n",
              "  </div>\n",
              "  "
            ],
            "text/plain": [
              "   Probandennummer  NLZ  ... Linearsprint 30 m Relativkraftleistung\n",
              "0                1    1  ...             4.128                 1.38\n",
              "1                2    1  ...             4.077                 1.46\n",
              "2                3    1  ...             4.176                 1.43\n",
              "3                5    1  ...             4.152                 1.02\n",
              "4                6    1  ...             4.342                 1.01\n",
              "\n",
              "[5 rows x 15 columns]"
            ]
          },
          "metadata": {},
          "execution_count": 3
        }
      ]
    },
    {
      "cell_type": "code",
      "source": [
        "!pip install kneed\n",
        "\n",
        "import matplotlib.pyplot as plt\n",
        "from kneed import KneeLocator\n",
        "from sklearn.datasets import make_blobs\n",
        "from sklearn.cluster import KMeans\n",
        "from sklearn.metrics import silhouette_score\n",
        "from sklearn.preprocessing import StandardScaler"
      ],
      "metadata": {
        "id": "rizR9f_bo9QU",
        "colab": {
          "base_uri": "https://localhost:8080/"
        },
        "outputId": "c54f8463-9067-4bae-b3de-d1c28a6e6454"
      },
      "execution_count": null,
      "outputs": [
        {
          "output_type": "stream",
          "name": "stdout",
          "text": [
            "Collecting kneed\n",
            "  Downloading kneed-0.7.0-py2.py3-none-any.whl (9.4 kB)\n",
            "Requirement already satisfied: matplotlib in /usr/local/lib/python3.7/dist-packages (from kneed) (3.2.2)\n",
            "Requirement already satisfied: scipy in /usr/local/lib/python3.7/dist-packages (from kneed) (1.4.1)\n",
            "Requirement already satisfied: numpy>=1.14.2 in /usr/local/lib/python3.7/dist-packages (from kneed) (1.21.5)\n",
            "Requirement already satisfied: python-dateutil>=2.1 in /usr/local/lib/python3.7/dist-packages (from matplotlib->kneed) (2.8.2)\n",
            "Requirement already satisfied: kiwisolver>=1.0.1 in /usr/local/lib/python3.7/dist-packages (from matplotlib->kneed) (1.3.2)\n",
            "Requirement already satisfied: pyparsing!=2.0.4,!=2.1.2,!=2.1.6,>=2.0.1 in /usr/local/lib/python3.7/dist-packages (from matplotlib->kneed) (3.0.7)\n",
            "Requirement already satisfied: cycler>=0.10 in /usr/local/lib/python3.7/dist-packages (from matplotlib->kneed) (0.11.0)\n",
            "Requirement already satisfied: six>=1.5 in /usr/local/lib/python3.7/dist-packages (from python-dateutil>=2.1->matplotlib->kneed) (1.15.0)\n",
            "Installing collected packages: kneed\n",
            "Successfully installed kneed-0.7.0\n"
          ]
        }
      ]
    },
    {
      "cell_type": "code",
      "source": [
        "def clean_dataset(df):\n",
        "    assert isinstance(df, pd.DataFrame), \"df needs to be a pd.DataFrame\"\n",
        "    df.dropna(inplace=True)\n",
        "    indices_to_keep = ~df.isin([np.nan, np.inf, -np.inf]).any(1)\n",
        "    return df[indices_to_keep].astype(np.float64)\n",
        "\n"
      ],
      "metadata": {
        "id": "1gXkXIcxvlaP"
      },
      "execution_count": null,
      "outputs": []
    },
    {
      "cell_type": "code",
      "source": [
        "features=data.loc[:,['Squat Jump', 'Relativkraftleistung','Linearsprint 10m','Countermovement Jump']]\n",
        "features_clean=clean_dataset(features)\n",
        "len(features_clean)"
      ],
      "metadata": {
        "colab": {
          "base_uri": "https://localhost:8080/"
        },
        "id": "a1zhPAS_r5xw",
        "outputId": "186347ac-3d6e-4f53-9fc4-4aae7071ff4f"
      },
      "execution_count": null,
      "outputs": [
        {
          "output_type": "execute_result",
          "data": {
            "text/plain": [
              "463"
            ]
          },
          "metadata": {},
          "execution_count": 20
        }
      ]
    },
    {
      "cell_type": "code",
      "source": [
        "scaler = StandardScaler()\n",
        "scaled_features = scaler.fit_transform(features_clean)\n",
        "scaled_features[:5]"
      ],
      "metadata": {
        "colab": {
          "base_uri": "https://localhost:8080/"
        },
        "id": "5UzE4QiztQXM",
        "outputId": "0ffdc389-49bb-4d4b-eb18-8b197d88bb7b"
      },
      "execution_count": null,
      "outputs": [
        {
          "output_type": "execute_result",
          "data": {
            "text/plain": [
              "array([[ 0.56357657,  0.54935947, -0.67178771,  0.11824529],\n",
              "       [ 1.06700155,  0.82840876, -0.75720746,  0.67053122],\n",
              "       [-0.08368411,  0.72376528, -0.02503819, -0.04209579],\n",
              "       [ 0.31186408, -0.70636237, -0.12266076,  0.70616258],\n",
              "       [-0.06570465, -0.74124353,  0.1946126 , -0.30933091]])"
            ]
          },
          "metadata": {},
          "execution_count": 11
        }
      ]
    },
    {
      "cell_type": "code",
      "source": [
        "kmeans = KMeans(\n",
        "init=\"random\",\n",
        "n_clusters=3,\n",
        "n_init=10,\n",
        "max_iter=300,\n",
        "random_state=42\n",
        ")\n",
        "\n",
        "kmeans.fit(scaled_features)\n",
        "\n",
        "kmeans.n_iter_\n",
        "clust=kmeans.labels_\n",
        "features_clustered=features\n",
        "features_clustered['cluster']=clust\n",
        "features_clustered.head()"
      ],
      "metadata": {
        "colab": {
          "base_uri": "https://localhost:8080/",
          "height": 206
        },
        "id": "zlItGOb-uBJh",
        "outputId": "a7d06dbc-52cc-4415-c8b1-8cd3a81e0536"
      },
      "execution_count": null,
      "outputs": [
        {
          "output_type": "execute_result",
          "data": {
            "text/html": [
              "\n",
              "  <div id=\"df-875fad0a-cd8b-487a-a576-7ee5f5840f7c\">\n",
              "    <div class=\"colab-df-container\">\n",
              "      <div>\n",
              "<style scoped>\n",
              "    .dataframe tbody tr th:only-of-type {\n",
              "        vertical-align: middle;\n",
              "    }\n",
              "\n",
              "    .dataframe tbody tr th {\n",
              "        vertical-align: top;\n",
              "    }\n",
              "\n",
              "    .dataframe thead th {\n",
              "        text-align: right;\n",
              "    }\n",
              "</style>\n",
              "<table border=\"1\" class=\"dataframe\">\n",
              "  <thead>\n",
              "    <tr style=\"text-align: right;\">\n",
              "      <th></th>\n",
              "      <th>Squat Jump</th>\n",
              "      <th>Relativkraftleistung</th>\n",
              "      <th>Linearsprint 10m</th>\n",
              "      <th>Countermovement Jump</th>\n",
              "      <th>cluster</th>\n",
              "    </tr>\n",
              "  </thead>\n",
              "  <tbody>\n",
              "    <tr>\n",
              "      <th>0</th>\n",
              "      <td>39.1</td>\n",
              "      <td>1.38</td>\n",
              "      <td>1.713</td>\n",
              "      <td>38.8</td>\n",
              "      <td>0</td>\n",
              "    </tr>\n",
              "    <tr>\n",
              "      <th>1</th>\n",
              "      <td>41.9</td>\n",
              "      <td>1.46</td>\n",
              "      <td>1.706</td>\n",
              "      <td>41.9</td>\n",
              "      <td>0</td>\n",
              "    </tr>\n",
              "    <tr>\n",
              "      <th>2</th>\n",
              "      <td>35.5</td>\n",
              "      <td>1.43</td>\n",
              "      <td>1.766</td>\n",
              "      <td>37.9</td>\n",
              "      <td>2</td>\n",
              "    </tr>\n",
              "    <tr>\n",
              "      <th>3</th>\n",
              "      <td>37.7</td>\n",
              "      <td>1.02</td>\n",
              "      <td>1.758</td>\n",
              "      <td>42.1</td>\n",
              "      <td>2</td>\n",
              "    </tr>\n",
              "    <tr>\n",
              "      <th>4</th>\n",
              "      <td>35.6</td>\n",
              "      <td>1.01</td>\n",
              "      <td>1.784</td>\n",
              "      <td>36.4</td>\n",
              "      <td>2</td>\n",
              "    </tr>\n",
              "  </tbody>\n",
              "</table>\n",
              "</div>\n",
              "      <button class=\"colab-df-convert\" onclick=\"convertToInteractive('df-875fad0a-cd8b-487a-a576-7ee5f5840f7c')\"\n",
              "              title=\"Convert this dataframe to an interactive table.\"\n",
              "              style=\"display:none;\">\n",
              "        \n",
              "  <svg xmlns=\"http://www.w3.org/2000/svg\" height=\"24px\"viewBox=\"0 0 24 24\"\n",
              "       width=\"24px\">\n",
              "    <path d=\"M0 0h24v24H0V0z\" fill=\"none\"/>\n",
              "    <path d=\"M18.56 5.44l.94 2.06.94-2.06 2.06-.94-2.06-.94-.94-2.06-.94 2.06-2.06.94zm-11 1L8.5 8.5l.94-2.06 2.06-.94-2.06-.94L8.5 2.5l-.94 2.06-2.06.94zm10 10l.94 2.06.94-2.06 2.06-.94-2.06-.94-.94-2.06-.94 2.06-2.06.94z\"/><path d=\"M17.41 7.96l-1.37-1.37c-.4-.4-.92-.59-1.43-.59-.52 0-1.04.2-1.43.59L10.3 9.45l-7.72 7.72c-.78.78-.78 2.05 0 2.83L4 21.41c.39.39.9.59 1.41.59.51 0 1.02-.2 1.41-.59l7.78-7.78 2.81-2.81c.8-.78.8-2.07 0-2.86zM5.41 20L4 18.59l7.72-7.72 1.47 1.35L5.41 20z\"/>\n",
              "  </svg>\n",
              "      </button>\n",
              "      \n",
              "  <style>\n",
              "    .colab-df-container {\n",
              "      display:flex;\n",
              "      flex-wrap:wrap;\n",
              "      gap: 12px;\n",
              "    }\n",
              "\n",
              "    .colab-df-convert {\n",
              "      background-color: #E8F0FE;\n",
              "      border: none;\n",
              "      border-radius: 50%;\n",
              "      cursor: pointer;\n",
              "      display: none;\n",
              "      fill: #1967D2;\n",
              "      height: 32px;\n",
              "      padding: 0 0 0 0;\n",
              "      width: 32px;\n",
              "    }\n",
              "\n",
              "    .colab-df-convert:hover {\n",
              "      background-color: #E2EBFA;\n",
              "      box-shadow: 0px 1px 2px rgba(60, 64, 67, 0.3), 0px 1px 3px 1px rgba(60, 64, 67, 0.15);\n",
              "      fill: #174EA6;\n",
              "    }\n",
              "\n",
              "    [theme=dark] .colab-df-convert {\n",
              "      background-color: #3B4455;\n",
              "      fill: #D2E3FC;\n",
              "    }\n",
              "\n",
              "    [theme=dark] .colab-df-convert:hover {\n",
              "      background-color: #434B5C;\n",
              "      box-shadow: 0px 1px 3px 1px rgba(0, 0, 0, 0.15);\n",
              "      filter: drop-shadow(0px 1px 2px rgba(0, 0, 0, 0.3));\n",
              "      fill: #FFFFFF;\n",
              "    }\n",
              "  </style>\n",
              "\n",
              "      <script>\n",
              "        const buttonEl =\n",
              "          document.querySelector('#df-875fad0a-cd8b-487a-a576-7ee5f5840f7c button.colab-df-convert');\n",
              "        buttonEl.style.display =\n",
              "          google.colab.kernel.accessAllowed ? 'block' : 'none';\n",
              "\n",
              "        async function convertToInteractive(key) {\n",
              "          const element = document.querySelector('#df-875fad0a-cd8b-487a-a576-7ee5f5840f7c');\n",
              "          const dataTable =\n",
              "            await google.colab.kernel.invokeFunction('convertToInteractive',\n",
              "                                                     [key], {});\n",
              "          if (!dataTable) return;\n",
              "\n",
              "          const docLinkHtml = 'Like what you see? Visit the ' +\n",
              "            '<a target=\"_blank\" href=https://colab.research.google.com/notebooks/data_table.ipynb>data table notebook</a>'\n",
              "            + ' to learn more about interactive tables.';\n",
              "          element.innerHTML = '';\n",
              "          dataTable['output_type'] = 'display_data';\n",
              "          await google.colab.output.renderOutput(dataTable, element);\n",
              "          const docLink = document.createElement('div');\n",
              "          docLink.innerHTML = docLinkHtml;\n",
              "          element.appendChild(docLink);\n",
              "        }\n",
              "      </script>\n",
              "    </div>\n",
              "  </div>\n",
              "  "
            ],
            "text/plain": [
              "   Squat Jump  Relativkraftleistung  ...  Countermovement Jump  cluster\n",
              "0        39.1                  1.38  ...                  38.8        0\n",
              "1        41.9                  1.46  ...                  41.9        0\n",
              "2        35.5                  1.43  ...                  37.9        2\n",
              "3        37.7                  1.02  ...                  42.1        2\n",
              "4        35.6                  1.01  ...                  36.4        2\n",
              "\n",
              "[5 rows x 5 columns]"
            ]
          },
          "metadata": {},
          "execution_count": 12
        }
      ]
    },
    {
      "cell_type": "code",
      "source": [
        "kmeans_kwargs = {\n",
        "    \"init\": \"random\",\n",
        "    \"n_init\": 10,\n",
        "    \"max_iter\": 300,\n",
        "    \"random_state\": 42,\n",
        "}\n",
        "  \n",
        "# A list holds the SSE values for each k\n",
        "sse = []\n",
        "for k in range(1, 11):\n",
        "   kmeans = KMeans(n_clusters=k, **kmeans_kwargs)\n",
        "   kmeans.fit(scaled_features)\n",
        "   sse.append(kmeans.inertia_)\n",
        "\n",
        "\n"
      ],
      "metadata": {
        "id": "EzQCoLh2wTkt"
      },
      "execution_count": null,
      "outputs": []
    },
    {
      "cell_type": "code",
      "source": [
        "plt.style.use(\"fivethirtyeight\")\n",
        "plt.plot(range(1, 11), sse)\n",
        "plt.xticks(range(1, 11))\n",
        "plt.xlabel(\"Number of Clusters\")\n",
        "plt.ylabel(\"SSE\")\n",
        "plt.show()\n",
        "\n",
        "\n",
        "kl = KneeLocator(\n",
        "   range(1, 11), sse, curve=\"convex\", direction=\"decreasing\"\n",
        "   )\n",
        "\n",
        "print('Number of clusters: ', kl.elbow)"
      ],
      "metadata": {
        "colab": {
          "base_uri": "https://localhost:8080/",
          "height": 235
        },
        "id": "-p119Yuxw4aZ",
        "outputId": "4e87fb15-6f88-401b-8afd-e70d1d218af3"
      },
      "execution_count": null,
      "outputs": [
        {
          "output_type": "error",
          "ename": "NameError",
          "evalue": "ignored",
          "traceback": [
            "\u001b[0;31m---------------------------------------------------------------------------\u001b[0m",
            "\u001b[0;31mNameError\u001b[0m                                 Traceback (most recent call last)",
            "\u001b[0;32m<ipython-input-13-aff0cd5edd80>\u001b[0m in \u001b[0;36m<module>\u001b[0;34m()\u001b[0m\n\u001b[1;32m      1\u001b[0m \u001b[0mplt\u001b[0m\u001b[0;34m.\u001b[0m\u001b[0mstyle\u001b[0m\u001b[0;34m.\u001b[0m\u001b[0muse\u001b[0m\u001b[0;34m(\u001b[0m\u001b[0;34m\"fivethirtyeight\"\u001b[0m\u001b[0;34m)\u001b[0m\u001b[0;34m\u001b[0m\u001b[0;34m\u001b[0m\u001b[0m\n\u001b[0;32m----> 2\u001b[0;31m \u001b[0mplt\u001b[0m\u001b[0;34m.\u001b[0m\u001b[0mplot\u001b[0m\u001b[0;34m(\u001b[0m\u001b[0mrange\u001b[0m\u001b[0;34m(\u001b[0m\u001b[0;36m1\u001b[0m\u001b[0;34m,\u001b[0m \u001b[0;36m11\u001b[0m\u001b[0;34m)\u001b[0m\u001b[0;34m,\u001b[0m \u001b[0msse\u001b[0m\u001b[0;34m)\u001b[0m\u001b[0;34m\u001b[0m\u001b[0;34m\u001b[0m\u001b[0m\n\u001b[0m\u001b[1;32m      3\u001b[0m \u001b[0mplt\u001b[0m\u001b[0;34m.\u001b[0m\u001b[0mxticks\u001b[0m\u001b[0;34m(\u001b[0m\u001b[0mrange\u001b[0m\u001b[0;34m(\u001b[0m\u001b[0;36m1\u001b[0m\u001b[0;34m,\u001b[0m \u001b[0;36m11\u001b[0m\u001b[0;34m)\u001b[0m\u001b[0;34m)\u001b[0m\u001b[0;34m\u001b[0m\u001b[0;34m\u001b[0m\u001b[0m\n\u001b[1;32m      4\u001b[0m \u001b[0mplt\u001b[0m\u001b[0;34m.\u001b[0m\u001b[0mxlabel\u001b[0m\u001b[0;34m(\u001b[0m\u001b[0;34m\"Number of Clusters\"\u001b[0m\u001b[0;34m)\u001b[0m\u001b[0;34m\u001b[0m\u001b[0;34m\u001b[0m\u001b[0m\n\u001b[1;32m      5\u001b[0m \u001b[0mplt\u001b[0m\u001b[0;34m.\u001b[0m\u001b[0mylabel\u001b[0m\u001b[0;34m(\u001b[0m\u001b[0;34m\"SSE\"\u001b[0m\u001b[0;34m)\u001b[0m\u001b[0;34m\u001b[0m\u001b[0;34m\u001b[0m\u001b[0m\n",
            "\u001b[0;31mNameError\u001b[0m: name 'sse' is not defined"
          ]
        }
      ]
    },
    {
      "cell_type": "code",
      "source": [
        "kl = KneeLocator(\n",
        "   range(1, 11), sse, curve=\"convex\", direction=\"decreasing\"\n",
        "   )\n",
        "\n",
        "print('Number of clusters: ', kl.elbow)"
      ],
      "metadata": {
        "colab": {
          "base_uri": "https://localhost:8080/"
        },
        "id": "ioVoXxQjEgiY",
        "outputId": "c73a7c93-12fa-472b-a8f0-41d510356495"
      },
      "execution_count": null,
      "outputs": [
        {
          "output_type": "stream",
          "name": "stdout",
          "text": [
            "Number of clusters:  3\n"
          ]
        }
      ]
    },
    {
      "cell_type": "code",
      "source": [
        "groups = features_clustered.groupby('cluster')\n",
        "for name, group in groups:\n",
        "    plt.plot(group['Linearsprint 10m'], group['Squat Jump'],marker='o', linestyle='', markersize=2, label=name)\n",
        "    plt.xlabel('Linearsprint 10m')\n",
        "    plt.ylabel('Squat Jump')\n",
        "plt.legend()\n",
        "\n",
        "#plt.plot(features_clustered['Linearsprint 10m'],features_clustered['Countermovement Jump'], label=features_clustered['cluster'], c=features_clustered['cluster'],marker='.', linestyle='none')"
      ],
      "metadata": {
        "colab": {
          "base_uri": "https://localhost:8080/",
          "height": 321
        },
        "id": "_S65cyBGxjk_",
        "outputId": "21b3c102-9940-401e-b3ce-b97e65650427"
      },
      "execution_count": null,
      "outputs": [
        {
          "output_type": "execute_result",
          "data": {
            "text/plain": [
              "<matplotlib.legend.Legend at 0x7f0107cff5d0>"
            ]
          },
          "metadata": {},
          "execution_count": 14
        },
        {
          "output_type": "display_data",
          "data": {
            "image/png": "[encoded data removed]",
            "text/plain": [
              "<Figure size 432x288 with 1 Axes>"
            ]
          },
          "metadata": {}
        }
      ]
    },
    {
      "cell_type": "code",
      "source": [
        "groups = features_clustered.groupby('cluster')\n",
        "for name, group in groups:\n",
        "    plt.plot(group['Relativkraftleistung'],group['Linearsprint 10m'],marker='o', linestyle='', markersize=2, label=name)\n",
        "    plt.ylabel('Linearsprint 10m')\n",
        "    plt.xlabel('Relativkraftleistung')\n",
        "plt.legend()\n"
      ],
      "metadata": {
        "colab": {
          "base_uri": "https://localhost:8080/",
          "height": 321
        },
        "id": "GSzcIoyrzOdl",
        "outputId": "826528a0-6e21-4444-bbb2-2e81fae9b297"
      },
      "execution_count": null,
      "outputs": [
        {
          "output_type": "execute_result",
          "data": {
            "text/plain": [
              "<matplotlib.legend.Legend at 0x7f0107cfb590>"
            ]
          },
          "metadata": {},
          "execution_count": 15
        },
        {
          "output_type": "display_data",
          "data": {
            "image/png": "[encoded data removed]",
            "text/plain": [
              "<Figure size 432x288 with 1 Axes>"
            ]
          },
          "metadata": {}
        }
      ]
    },
    {
      "cell_type": "code",
      "source": [
        "groups = features_clustered.groupby('cluster')\n",
        "for name, group in groups:\n",
        "    plt.plot(group['Relativkraftleistung'],group['Squat Jump'],marker='o', linestyle='', markersize=2, label=name)\n",
        "    plt.ylabel('Squat Jump')\n",
        "    plt.xlabel('Relativkraftleistung')\n",
        "plt.legend()"
      ],
      "metadata": {
        "colab": {
          "base_uri": "https://localhost:8080/",
          "height": 321
        },
        "id": "x837Wj3qEL6S",
        "outputId": "1e3aa91b-ce82-43ad-edb7-af90a15b6a22"
      },
      "execution_count": null,
      "outputs": [
        {
          "output_type": "execute_result",
          "data": {
            "text/plain": [
              "<matplotlib.legend.Legend at 0x7f0107bf26d0>"
            ]
          },
          "metadata": {},
          "execution_count": 16
        },
        {
          "output_type": "display_data",
          "data": {
            "image/png": "[encoded data removed]",
            "text/plain": [
              "<Figure size 432x288 with 1 Axes>"
            ]
          },
          "metadata": {}
        }
      ]
    },
    {
      "cell_type": "code",
      "source": [
        "groups = features_clustered.groupby('cluster')\n",
        "for name, group in groups:\n",
        "    plt.plot(group['Relativkraftleistung'],group['Countermovement Jump'],marker='o', linestyle='', markersize=2, label=name)\n",
        "    plt.ylabel('Countermovement Jump')\n",
        "    plt.xlabel('Relativkraftleistung')\n",
        "plt.legend()"
      ],
      "metadata": {
        "colab": {
          "base_uri": "https://localhost:8080/",
          "height": 324
        },
        "id": "NiXEXMDzGezk",
        "outputId": "f8f43bd8-b0ee-4687-98b8-a92e2a864e73"
      },
      "execution_count": null,
      "outputs": [
        {
          "output_type": "execute_result",
          "data": {
            "text/plain": [
              "<matplotlib.legend.Legend at 0x7f898a331a90>"
            ]
          },
          "metadata": {},
          "execution_count": 56
        },
        {
          "output_type": "display_data",
          "data": {
            "image/png": "[encoded data removed]",
            "text/plain": [
              "<Figure size 432x288 with 1 Axes>"
            ]
          },
          "metadata": {}
        }
      ]
    },
    {
      "cell_type": "code",
      "source": [
        "groups = features_clustered.groupby('cluster')\n",
        "for name, group in groups:\n",
        "    plt.plot(group['Countermovement Jump'],group['Squat Jump'],marker='o', linestyle='', markersize=2, label=name)\n",
        "    plt.ylabel('Squat Jump')\n",
        "    plt.xlabel('Countermovement Jump')\n",
        "plt.legend()"
      ],
      "metadata": {
        "colab": {
          "base_uri": "https://localhost:8080/",
          "height": 321
        },
        "id": "3zYi3z8oFz5U",
        "outputId": "8fc2de50-82a0-4e97-f9f5-acf5b8d92956"
      },
      "execution_count": null,
      "outputs": [
        {
          "output_type": "execute_result",
          "data": {
            "text/plain": [
              "<matplotlib.legend.Legend at 0x7f898a3b07d0>"
            ]
          },
          "metadata": {},
          "execution_count": 55
        },
        {
          "output_type": "display_data",
          "data": {
            "image/png": "[encoded data removed]",
            "text/plain": [
              "<Figure size 432x288 with 1 Axes>"
            ]
          },
          "metadata": {}
        }
      ]
    },
    {
      "cell_type": "code",
      "source": [
        "from scipy.optimize import curve_fit\n",
        "\n",
        "xdata=features_clean['Relativkraftleistung']\n",
        "ydata=features_clean['Squat Jump']\n",
        "\n",
        "def sigmoid(x, L , x0, k, b):\n",
        "    y = L / (1 + np.exp(-k*(x-x0))) + b\n",
        "    return (y)\n",
        "\n",
        "\n",
        "\n",
        "p0 = [65, 1,22,10] # this is an mandatory initial guess\n",
        "#p0 = [max(ydata), 1,22,min(ydata)] # this is an mandatory initial guess\n",
        "\n",
        "#p0 = [max(ydata[:]), np.median(xdata),1,min(ydata[:])]\n",
        "#p0 = [70, 1,0,0] # this is an mandatory initial guess\n",
        "\n",
        "popt, pcov = curve_fit(sigmoid, xdata, ydata,p0,bounds=([0., 65.]),method='dogbox')\n",
        "\n",
        "x = np.linspace(0, 3, 1000)\n",
        "y = sigmoid(x, *popt)\n",
        "y_man = 65 / (1 + np.exp(-1.2*(x-1.15))) +3\n",
        "#y_man = 65 / (1 + np.exp(-0.9*(x-1.7))) +10\n",
        "\n",
        "plt.plot(xdata, ydata, 'o', label='data')\n",
        "plt.plot(x,y, label='fit')\n",
        "plt.plot(x,y_man,label='fit_man')\n",
        "plt.ylim(0, 65)\n",
        "plt.legend(loc='best')\n",
        "print(popt)"
      ],
      "metadata": {
        "colab": {
          "base_uri": "https://localhost:8080/",
          "height": 299
        },
        "id": "SJ36XJ4OeLlI",
        "outputId": "b1a7854e-48f1-468b-dadb-7a611c80d19c"
      },
      "execution_count": null,
      "outputs": [
        {
          "output_type": "stream",
          "name": "stdout",
          "text": [
            "[65.          1.29506154  0.91521591  4.52026136]\n"
          ]
        },
        {
          "output_type": "display_data",
          "data": {
            "image/png": "[encoded data removed]",
            "text/plain": [
              "<Figure size 432x288 with 1 Axes>"
            ]
          },
          "metadata": {}
        }
      ]
    },
    {
      "cell_type": "code",
      "source": [
        "from sklearn.linear_model import LogisticRegression\n",
        "from sklearn.metrics import accuracy_score\n",
        "from sklearn.model_selection import train_test_split\n",
        "\n",
        "model = LogisticRegression(max_iter=10000, n_jobs=-1) # one ...\n",
        "# fit the curve\n",
        "model.fit(xdata, ydata) # two. That's it!\n"
      ],
      "metadata": {
        "colab": {
          "base_uri": "https://localhost:8080/",
          "height": 970
        },
        "id": "wXm5gUFKKDHy",
        "outputId": "c38ff6ee-7516-41ad-8afe-346ac958fe7e"
      },
      "execution_count": null,
      "outputs": [
        {
          "output_type": "error",
          "ename": "ValueError",
          "evalue": "ignored",
          "traceback": [
            "\u001b[0;31m---------------------------------------------------------------------------\u001b[0m",
            "\u001b[0;31mValueError\u001b[0m                                Traceback (most recent call last)",
            "\u001b[0;32m<ipython-input-197-febcf6f79a84>\u001b[0m in \u001b[0;36m<module>\u001b[0;34m()\u001b[0m\n\u001b[1;32m      5\u001b[0m \u001b[0mmodel\u001b[0m \u001b[0;34m=\u001b[0m \u001b[0mLogisticRegression\u001b[0m\u001b[0;34m(\u001b[0m\u001b[0mmax_iter\u001b[0m\u001b[0;34m=\u001b[0m\u001b[0;36m10000\u001b[0m\u001b[0;34m,\u001b[0m \u001b[0mn_jobs\u001b[0m\u001b[0;34m=\u001b[0m\u001b[0;34m-\u001b[0m\u001b[0;36m1\u001b[0m\u001b[0;34m)\u001b[0m \u001b[0;31m# one ...\u001b[0m\u001b[0;34m\u001b[0m\u001b[0;34m\u001b[0m\u001b[0m\n\u001b[1;32m      6\u001b[0m \u001b[0;31m# fit the curve\u001b[0m\u001b[0;34m\u001b[0m\u001b[0;34m\u001b[0m\u001b[0;34m\u001b[0m\u001b[0m\n\u001b[0;32m----> 7\u001b[0;31m \u001b[0mmodel\u001b[0m\u001b[0;34m.\u001b[0m\u001b[0mfit\u001b[0m\u001b[0;34m(\u001b[0m\u001b[0mxdata\u001b[0m\u001b[0;34m,\u001b[0m \u001b[0mydata\u001b[0m\u001b[0;34m)\u001b[0m \u001b[0;31m# two. That's it!\u001b[0m\u001b[0;34m\u001b[0m\u001b[0;34m\u001b[0m\u001b[0m\n\u001b[0m",
            "\u001b[0;32m/usr/local/lib/python3.7/dist-packages/sklearn/linear_model/_logistic.py\u001b[0m in \u001b[0;36mfit\u001b[0;34m(self, X, y, sample_weight)\u001b[0m\n\u001b[1;32m   1512\u001b[0m             \u001b[0mdtype\u001b[0m\u001b[0;34m=\u001b[0m\u001b[0m_dtype\u001b[0m\u001b[0;34m,\u001b[0m\u001b[0;34m\u001b[0m\u001b[0;34m\u001b[0m\u001b[0m\n\u001b[1;32m   1513\u001b[0m             \u001b[0morder\u001b[0m\u001b[0;34m=\u001b[0m\u001b[0;34m\"C\"\u001b[0m\u001b[0;34m,\u001b[0m\u001b[0;34m\u001b[0m\u001b[0;34m\u001b[0m\u001b[0m\n\u001b[0;32m-> 1514\u001b[0;31m             \u001b[0maccept_large_sparse\u001b[0m\u001b[0;34m=\u001b[0m\u001b[0msolver\u001b[0m \u001b[0;32mnot\u001b[0m \u001b[0;32min\u001b[0m \u001b[0;34m[\u001b[0m\u001b[0;34m\"liblinear\"\u001b[0m\u001b[0;34m,\u001b[0m \u001b[0;34m\"sag\"\u001b[0m\u001b[0;34m,\u001b[0m \u001b[0;34m\"saga\"\u001b[0m\u001b[0;34m]\u001b[0m\u001b[0;34m,\u001b[0m\u001b[0;34m\u001b[0m\u001b[0;34m\u001b[0m\u001b[0m\n\u001b[0m\u001b[1;32m   1515\u001b[0m         )\n\u001b[1;32m   1516\u001b[0m         \u001b[0mcheck_classification_targets\u001b[0m\u001b[0;34m(\u001b[0m\u001b[0my\u001b[0m\u001b[0;34m)\u001b[0m\u001b[0;34m\u001b[0m\u001b[0;34m\u001b[0m\u001b[0m\n",
            "\u001b[0;32m/usr/local/lib/python3.7/dist-packages/sklearn/base.py\u001b[0m in \u001b[0;36m_validate_data\u001b[0;34m(self, X, y, reset, validate_separately, **check_params)\u001b[0m\n\u001b[1;32m    579\u001b[0m                 \u001b[0my\u001b[0m \u001b[0;34m=\u001b[0m \u001b[0mcheck_array\u001b[0m\u001b[0;34m(\u001b[0m\u001b[0my\u001b[0m\u001b[0;34m,\u001b[0m \u001b[0;34m**\u001b[0m\u001b[0mcheck_y_params\u001b[0m\u001b[0;34m)\u001b[0m\u001b[0;34m\u001b[0m\u001b[0;34m\u001b[0m\u001b[0m\n\u001b[1;32m    580\u001b[0m             \u001b[0;32melse\u001b[0m\u001b[0;34m:\u001b[0m\u001b[0;34m\u001b[0m\u001b[0;34m\u001b[0m\u001b[0m\n\u001b[0;32m--> 581\u001b[0;31m                 \u001b[0mX\u001b[0m\u001b[0;34m,\u001b[0m \u001b[0my\u001b[0m \u001b[0;34m=\u001b[0m \u001b[0mcheck_X_y\u001b[0m\u001b[0;34m(\u001b[0m\u001b[0mX\u001b[0m\u001b[0;34m,\u001b[0m \u001b[0my\u001b[0m\u001b[0;34m,\u001b[0m \u001b[0;34m**\u001b[0m\u001b[0mcheck_params\u001b[0m\u001b[0;34m)\u001b[0m\u001b[0;34m\u001b[0m\u001b[0;34m\u001b[0m\u001b[0m\n\u001b[0m\u001b[1;32m    582\u001b[0m             \u001b[0mout\u001b[0m \u001b[0;34m=\u001b[0m \u001b[0mX\u001b[0m\u001b[0;34m,\u001b[0m \u001b[0my\u001b[0m\u001b[0;34m\u001b[0m\u001b[0;34m\u001b[0m\u001b[0m\n\u001b[1;32m    583\u001b[0m \u001b[0;34m\u001b[0m\u001b[0m\n",
            "\u001b[0;32m/usr/local/lib/python3.7/dist-packages/sklearn/utils/validation.py\u001b[0m in \u001b[0;36mcheck_X_y\u001b[0;34m(X, y, accept_sparse, accept_large_sparse, dtype, order, copy, force_all_finite, ensure_2d, allow_nd, multi_output, ensure_min_samples, ensure_min_features, y_numeric, estimator)\u001b[0m\n\u001b[1;32m    974\u001b[0m         \u001b[0mensure_min_samples\u001b[0m\u001b[0;34m=\u001b[0m\u001b[0mensure_min_samples\u001b[0m\u001b[0;34m,\u001b[0m\u001b[0;34m\u001b[0m\u001b[0;34m\u001b[0m\u001b[0m\n\u001b[1;32m    975\u001b[0m         \u001b[0mensure_min_features\u001b[0m\u001b[0;34m=\u001b[0m\u001b[0mensure_min_features\u001b[0m\u001b[0;34m,\u001b[0m\u001b[0;34m\u001b[0m\u001b[0;34m\u001b[0m\u001b[0m\n\u001b[0;32m--> 976\u001b[0;31m         \u001b[0mestimator\u001b[0m\u001b[0;34m=\u001b[0m\u001b[0mestimator\u001b[0m\u001b[0;34m,\u001b[0m\u001b[0;34m\u001b[0m\u001b[0;34m\u001b[0m\u001b[0m\n\u001b[0m\u001b[1;32m    977\u001b[0m     )\n\u001b[1;32m    978\u001b[0m \u001b[0;34m\u001b[0m\u001b[0m\n",
            "\u001b[0;32m/usr/local/lib/python3.7/dist-packages/sklearn/utils/validation.py\u001b[0m in \u001b[0;36mcheck_array\u001b[0;34m(array, accept_sparse, accept_large_sparse, dtype, order, copy, force_all_finite, ensure_2d, allow_nd, ensure_min_samples, ensure_min_features, estimator)\u001b[0m\n\u001b[1;32m    771\u001b[0m                     \u001b[0;34m\"Reshape your data either using array.reshape(-1, 1) if \"\u001b[0m\u001b[0;34m\u001b[0m\u001b[0;34m\u001b[0m\u001b[0m\n\u001b[1;32m    772\u001b[0m                     \u001b[0;34m\"your data has a single feature or array.reshape(1, -1) \"\u001b[0m\u001b[0;34m\u001b[0m\u001b[0;34m\u001b[0m\u001b[0m\n\u001b[0;32m--> 773\u001b[0;31m                     \u001b[0;34m\"if it contains a single sample.\"\u001b[0m\u001b[0;34m.\u001b[0m\u001b[0mformat\u001b[0m\u001b[0;34m(\u001b[0m\u001b[0marray\u001b[0m\u001b[0;34m)\u001b[0m\u001b[0;34m\u001b[0m\u001b[0;34m\u001b[0m\u001b[0m\n\u001b[0m\u001b[1;32m    774\u001b[0m                 )\n\u001b[1;32m    775\u001b[0m \u001b[0;34m\u001b[0m\u001b[0m\n",
            "\u001b[0;31mValueError\u001b[0m: Expected 2D array, got 1D array instead:\narray=[1.38 1.46 1.43 1.02 1.01 1.14 1.5  1.07 1.73 1.8  1.37 1.4  1.39 1.65\n 0.8  1.38 1.28 1.27 1.48 1.59 1.55 1.43 1.5  1.47 1.2  1.72 1.53 1.38\n 1.5  1.03 1.22 1.07 1.45 1.38 1.25 0.85 1.51 1.48 1.41 1.24 1.99 1.86\n 1.4  1.22 1.42 1.55 1.54 1.28 1.46 1.17 1.85 1.65 1.4  1.16 1.61 1.27\n 1.4  1.4  1.22 1.05 1.49 1.61 1.44 0.74 0.84 1.33 1.8  1.61 1.67 1.19\n 1.5  1.4  1.68 1.44 1.67 1.22 1.58 1.65 0.93 1.64 1.47 1.22 1.57 1.67\n 1.32 1.25 0.93 0.96 1.35 1.62 1.22 1.5  1.37 1.44 1.42 1.46 1.29 1.44\n 0.72 0.96 1.36 0.92 1.8  0.99 1.09 0.86 1.27 1.21 1.52 1.06 1.16 1.22\n 1.43 1.18 1.02 1.07 1.01 0.88 0.89 1.95 1.16 0.96 0.87 0.62 1.32 0.82\n 0.88 0.8  1.07 0.94 0.89 1.08 1.34 1.25 1.09 1.39 1.47 1.15 1.14 1.1\n 1.17 1.17 1.01 1.27 1.05 1.12 1.35 0.96 1.25 1.09 1.37 1.14 1.41 1.12\n 1.19 1.32 1.07 1.23 1.34 0.97 1.28 0.91 1.53 1.12 1.13 1.02 1.28 1.43\n 1.18 0.98 1.1  1.08 1.21 1.22 1.12 1.   1.05 1.19 1.05 1.36 0.84 1.24\n 1.16 0.85 0.96 1.43 1.23 1.12 0.89 0.92 1.23 1.01 0.99 1.08 1.27 0.73\n 1.56 0.67 1.54 1.16 0.82 0.95 1.38 1.06 1.15 1.39 0.87 1.06 1.13 1.08\n 1.19 0.84 0.87 1.   0.82 0.84 1.06 0.57 1.07 0.81 0.69 1.09 1.   0.74\n 1.11 0.82 0.85 1.12 0.89 1.16 0.94 0.66 0.89 1.   0.84 0.57 0.71 0.76\n 0.54 0.96 0.71 0.54 0.59 0.38 0.42 0.49 0.41 0.44 0.66 0.72 0.48 0.81\n 0.35 0.81 1.22 1.15 0.86 0.58 1.11 0.86 1.07 1.22 1.33 0.76 0.89 1.17\n 1.1  1.75 0.99 0.82 1.06 1.21 0.84 0.99 1.09 1.05 1.63 1.16 1.17 0.87\n 0.91 1.38 1.07 0.96 0.87 1.   1.3  1.06 1.26 0.89 1.11 0.71 1.39 1.08\n 0.85 0.85 1.19 1.43 1.13 1.16 1.33 0.98 1.16 1.27 1.9  0.98 1.3  1.58\n 1.29 1.26 1.27 1.22 1.47 1.37 1.32 1.15 1.31 1.74 1.44 1.15 1.41 1.14\n 1.41 1.16 1.22 1.13 1.29 1.46 1.28 1.51 1.17 1.32 1.2  1.05 1.57 1.39\n 1.48 1.12 1.36 1.1  1.57 1.56 1.64 1.6  1.58 1.59 1.22 1.19 1.2  1.37\n 1.06 1.14 1.09 1.34 1.24 1.14 1.21 1.43 1.36 1.26 1.48 1.67 1.35 1.26\n 1.58 1.44 1.55 1.31 1.57 1.4  1.18 1.24 1.53 1.52 1.34 1.33 1.7  1.18\n 1.73 1.12 1.58 1.25 1.19 1.53 1.42 1.3  1.4  1.26 1.62 1.33 1.51 1.62\n 1.31 1.32 1.26 1.33 1.52 1.39 0.8  1.19 1.22 0.99 1.34 1.57 1.44 1.73\n 1.46 1.42 1.06 1.24 1.29 1.22 1.73 1.66 1.25 1.99 1.44 1.3  1.58 1.39\n 1.28 1.11 1.75 1.4  1.4  1.28 1.24 1.14 1.4  1.17 0.82 1.35 1.35 1.\n 1.87 1.2  1.45 1.28 1.36 1.38 1.32 1.46 1.43 1.38 1.49 1.35 1.52 1.32\n 1.6  1.38 1.25 1.11 1.39 1.31 1.32 1.06 1.37 1.32 1.36 0.86 1.12 1.41\n 1.24].\nReshape your data either using array.reshape(-1, 1) if your data has a single feature or array.reshape(1, -1) if it contains a single sample."
          ]
        }
      ]
    },
    {
      "cell_type": "code",
      "source": [
        "max(ydata)\n",
        "\n"
      ],
      "metadata": {
        "colab": {
          "base_uri": "https://localhost:8080/"
        },
        "id": "XfflOoUV0S3-",
        "outputId": "c3d0bf0b-199a-439f-a92a-37825a92b621"
      },
      "execution_count": null,
      "outputs": [
        {
          "output_type": "execute_result",
          "data": {
            "text/plain": [
              "52.2"
            ]
          },
          "metadata": {},
          "execution_count": 103
        }
      ]
    }
  ]
}